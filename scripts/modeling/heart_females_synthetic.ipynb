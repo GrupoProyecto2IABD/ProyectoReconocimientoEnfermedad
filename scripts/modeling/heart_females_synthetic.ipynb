{
 "cells": [
  {
   "cell_type": "code",
   "execution_count": 1,
   "id": "1fd47c84",
   "metadata": {},
   "outputs": [],
   "source": [
    "# Importación de librerías\n",
    "import pandas as pd\n",
    "from pathlib import Path\n",
    "import os\n",
    "from sklearn.model_selection import train_test_split, GridSearchCV\n",
    "from sklearn.ensemble import GradientBoostingClassifier\n",
    "from sklearn.preprocessing import StandardScaler\n",
    "from sklearn.metrics import (\n",
    "    classification_report, confusion_matrix,\n",
    "    ConfusionMatrixDisplay, roc_auc_score,\n",
    "    roc_curve, auc\n",
    ")\n",
    "import matplotlib.pyplot as plt\n",
    "from sklearn.metrics import confusion_matrix\n"
   ]
  },
  {
   "cell_type": "code",
   "execution_count": 2,
   "id": "e60259d5",
   "metadata": {},
   "outputs": [
    {
     "data": {
      "text/html": [
       "<div>\n",
       "<style scoped>\n",
       "    .dataframe tbody tr th:only-of-type {\n",
       "        vertical-align: middle;\n",
       "    }\n",
       "\n",
       "    .dataframe tbody tr th {\n",
       "        vertical-align: top;\n",
       "    }\n",
       "\n",
       "    .dataframe thead th {\n",
       "        text-align: right;\n",
       "    }\n",
       "</style>\n",
       "<table border=\"1\" class=\"dataframe\">\n",
       "  <thead>\n",
       "    <tr style=\"text-align: right;\">\n",
       "      <th></th>\n",
       "      <th>age</th>\n",
       "      <th>sex</th>\n",
       "      <th>chest_pain_type</th>\n",
       "      <th>resting_bp_s</th>\n",
       "      <th>cholesterol</th>\n",
       "      <th>fasting_blood_sugar</th>\n",
       "      <th>resting_ecg</th>\n",
       "      <th>max_heart_rate</th>\n",
       "      <th>target</th>\n",
       "    </tr>\n",
       "  </thead>\n",
       "  <tbody>\n",
       "    <tr>\n",
       "      <th>0</th>\n",
       "      <td>40.0</td>\n",
       "      <td>1.0</td>\n",
       "      <td>2.0</td>\n",
       "      <td>140.0</td>\n",
       "      <td>289.0</td>\n",
       "      <td>0.0</td>\n",
       "      <td>0.0</td>\n",
       "      <td>172.0</td>\n",
       "      <td>0.0</td>\n",
       "    </tr>\n",
       "    <tr>\n",
       "      <th>1</th>\n",
       "      <td>49.0</td>\n",
       "      <td>0.0</td>\n",
       "      <td>3.0</td>\n",
       "      <td>160.0</td>\n",
       "      <td>180.0</td>\n",
       "      <td>0.0</td>\n",
       "      <td>0.0</td>\n",
       "      <td>156.0</td>\n",
       "      <td>1.0</td>\n",
       "    </tr>\n",
       "    <tr>\n",
       "      <th>2</th>\n",
       "      <td>37.0</td>\n",
       "      <td>1.0</td>\n",
       "      <td>2.0</td>\n",
       "      <td>130.0</td>\n",
       "      <td>283.0</td>\n",
       "      <td>0.0</td>\n",
       "      <td>1.0</td>\n",
       "      <td>98.0</td>\n",
       "      <td>0.0</td>\n",
       "    </tr>\n",
       "    <tr>\n",
       "      <th>3</th>\n",
       "      <td>48.0</td>\n",
       "      <td>0.0</td>\n",
       "      <td>4.0</td>\n",
       "      <td>138.0</td>\n",
       "      <td>214.0</td>\n",
       "      <td>0.0</td>\n",
       "      <td>0.0</td>\n",
       "      <td>108.0</td>\n",
       "      <td>1.0</td>\n",
       "    </tr>\n",
       "    <tr>\n",
       "      <th>4</th>\n",
       "      <td>54.0</td>\n",
       "      <td>1.0</td>\n",
       "      <td>3.0</td>\n",
       "      <td>150.0</td>\n",
       "      <td>195.0</td>\n",
       "      <td>0.0</td>\n",
       "      <td>0.0</td>\n",
       "      <td>122.0</td>\n",
       "      <td>0.0</td>\n",
       "    </tr>\n",
       "  </tbody>\n",
       "</table>\n",
       "</div>"
      ],
      "text/plain": [
       "    age  sex  chest_pain_type  resting_bp_s  cholesterol  fasting_blood_sugar  \\\n",
       "0  40.0  1.0              2.0         140.0        289.0                  0.0   \n",
       "1  49.0  0.0              3.0         160.0        180.0                  0.0   \n",
       "2  37.0  1.0              2.0         130.0        283.0                  0.0   \n",
       "3  48.0  0.0              4.0         138.0        214.0                  0.0   \n",
       "4  54.0  1.0              3.0         150.0        195.0                  0.0   \n",
       "\n",
       "   resting_ecg  max_heart_rate  target  \n",
       "0          0.0           172.0     0.0  \n",
       "1          0.0           156.0     1.0  \n",
       "2          1.0            98.0     0.0  \n",
       "3          0.0           108.0     1.0  \n",
       "4          0.0           122.0     0.0  "
      ]
     },
     "execution_count": 2,
     "metadata": {},
     "output_type": "execute_result"
    }
   ],
   "source": [
    "# 1. Detectar carpeta actual y raíz del proyecto\n",
    "current_dir = Path(os.getcwd())\n",
    "project_root = current_dir.parent.parent\n",
    "data_path = project_root / \"data\" / \"raw\" / \"heart-disease-dataset.csv\"\n",
    "\n",
    "# 2. Cargar CSV\n",
    "heart = pd.read_csv(data_path)\n",
    "\n",
    "# 3. Limpiar columnas no deseadas\n",
    "heart.drop(columns=['exercise_angina', 'oldpeak', 'st_slope'], inplace=True)\n",
    "\n",
    "heart.head()"
   ]
  },
  {
   "cell_type": "code",
   "execution_count": 3,
   "id": "dc65ed74",
   "metadata": {},
   "outputs": [
    {
     "data": {
      "text/plain": [
       "age                     50\n",
       "sex                      2\n",
       "chest_pain_type          4\n",
       "resting_bp_s            67\n",
       "cholesterol            222\n",
       "fasting_blood_sugar      2\n",
       "resting_ecg              3\n",
       "max_heart_rate         119\n",
       "target                   2\n",
       "dtype: int64"
      ]
     },
     "execution_count": 3,
     "metadata": {},
     "output_type": "execute_result"
    }
   ],
   "source": [
    "# Valores único\n",
    "heart.nunique()"
   ]
  },
  {
   "cell_type": "code",
   "execution_count": 4,
   "id": "8e1c53a9",
   "metadata": {},
   "outputs": [
    {
     "name": "stdout",
     "output_type": "stream",
     "text": [
      "\n",
      "📊 Distribución en 'sex':\n",
      "sex\n",
      "1.0    76.4\n",
      "0.0    23.6\n",
      "Name: proportion, dtype: float64\n",
      "\n",
      "📊 Distribución en 'chest_pain_type':\n",
      "chest_pain_type\n",
      "4.0    52.5\n",
      "3.0    23.8\n",
      "2.0    18.2\n",
      "1.0     5.5\n",
      "Name: proportion, dtype: float64\n",
      "\n",
      "📊 Distribución en 'fasting_blood_sugar':\n",
      "fasting_blood_sugar\n",
      "0.0    78.7\n",
      "1.0    21.3\n",
      "Name: proportion, dtype: float64\n",
      "\n",
      "📊 Distribución en 'resting_ecg':\n",
      "resting_ecg\n",
      "0.0    57.5\n",
      "2.0    27.3\n",
      "1.0    15.2\n",
      "Name: proportion, dtype: float64\n",
      "\n",
      "📊 Distribución en 'target':\n",
      "target\n",
      "1.0    52.9\n",
      "0.0    47.1\n",
      "Name: proportion, dtype: float64\n"
     ]
    }
   ],
   "source": [
    "# Mostrar distribución porcentual solo en columnas categóricas (<= 10 valores únicos)\n",
    "for col in heart.columns:\n",
    "    if heart[col].nunique() <= 10:\n",
    "        print(f\"\\n📊 Distribución en '{col}':\")\n",
    "        print(heart[col].value_counts(normalize=True).round(3) * 100)"
   ]
  },
  {
   "cell_type": "markdown",
   "id": "5f434b8e",
   "metadata": {},
   "source": [
    "#### Análisis de columnas categóricas"
   ]
  },
  {
   "cell_type": "markdown",
   "id": "0e0605e8",
   "metadata": {},
   "source": [
    "| Variable              | Distribución destacada                      | Observación                                            |\n",
    "| --------------------- | ------------------------------------------- | ------------------------------------------------------ |\n",
    "| `sex`                 | 76.4% hombres, 23.6% mujeres                | 🔸 Desbalance moderado (3:1). Puede afectar al modelo. |\n",
    "| `chest_pain_type`     | Muy dominada por clase 4.0 (52.5%)          | 🔸 Clase 1.0 (5.5%) tiene **muy pocos casos**.         |\n",
    "| `fasting_blood_sugar` | 78.7% bajo (0), 21.3% alto (1)              | 🔹 Desbalance moderado, pero aceptable.                |\n",
    "| `resting_ecg`         | Distribución variada: 57.5% / 27.3% / 15.2% | ✅ Sin problemas graves.                                |\n",
    "| `target`              | 52.9% positivos, 47.1% negativos            | ✅ Bien balanceado.                                     |\n"
   ]
  },
  {
   "cell_type": "code",
   "execution_count": 5,
   "id": "85f9ce29",
   "metadata": {},
   "outputs": [
    {
     "data": {
      "text/plain": [
       "target\n",
       "0.0    75.1\n",
       "1.0    24.9\n",
       "Name: proportion, dtype: float64"
      ]
     },
     "execution_count": 5,
     "metadata": {},
     "output_type": "execute_result"
    }
   ],
   "source": [
    "# Ver proporción de target en mujeres\n",
    "heart[heart['sex'] == 0]['target'].value_counts(normalize=True).round(3) * 100"
   ]
  },
  {
   "cell_type": "code",
   "execution_count": 6,
   "id": "65625d4d",
   "metadata": {},
   "outputs": [
    {
     "data": {
      "text/plain": [
       "target\n",
       "1.0    61.5\n",
       "0.0    38.5\n",
       "Name: proportion, dtype: float64"
      ]
     },
     "execution_count": 6,
     "metadata": {},
     "output_type": "execute_result"
    }
   ],
   "source": [
    "# Ver proporción de target en hombres\n",
    "heart[heart['sex'] == 1]['target'].value_counts(normalize=True).round(3) * 100\n"
   ]
  },
  {
   "cell_type": "code",
   "execution_count": 7,
   "id": "9ab51bc6",
   "metadata": {},
   "outputs": [
    {
     "data": {
      "text/plain": [
       "(1190, 9)"
      ]
     },
     "execution_count": 7,
     "metadata": {},
     "output_type": "execute_result"
    }
   ],
   "source": [
    "heart.shape"
   ]
  },
  {
   "cell_type": "code",
   "execution_count": 8,
   "id": "0d5273de",
   "metadata": {},
   "outputs": [
    {
     "data": {
      "text/plain": [
       "sex\n",
       "1.0    909\n",
       "0.0    281\n",
       "Name: count, dtype: int64"
      ]
     },
     "execution_count": 8,
     "metadata": {},
     "output_type": "execute_result"
    }
   ],
   "source": [
    "heart['sex'].value_counts()"
   ]
  },
  {
   "cell_type": "markdown",
   "id": "4336c9b9",
   "metadata": {},
   "source": [
    "#### CSV solo de sex == 0 (mujer) para generar datos sintéticos en MOSTLY.AI"
   ]
  },
  {
   "cell_type": "code",
   "execution_count": 5,
   "id": "13bda6dd",
   "metadata": {},
   "outputs": [],
   "source": [
    "heart_females = heart[heart['sex'] == 0]"
   ]
  },
  {
   "cell_type": "code",
   "execution_count": 6,
   "id": "276641f9",
   "metadata": {},
   "outputs": [],
   "source": [
    "heart_females_positive = heart_females[heart_females['target'] == 1]"
   ]
  },
  {
   "cell_type": "code",
   "execution_count": 7,
   "id": "dae2f9d8",
   "metadata": {},
   "outputs": [
    {
     "name": "stdout",
     "output_type": "stream",
     "text": [
      "✅ Archivo guardado en: data/synthetic/heart_females.csv\n"
     ]
    }
   ],
   "source": [
    "# Asegurarse de que exista la carpeta 'results'\n",
    "output_path = project_root / \"data\" / \"synthetic\" \n",
    "output_path.mkdir(parents=True, exist_ok=True)\n",
    "\n",
    "# Guardar el dataset combinado\n",
    "heart_females.to_csv(output_path / \"heart_females.csv\", index=False)\n",
    "print(\"✅ Archivo guardado en: data/synthetic/heart_females.csv\")\n",
    "\n",
    "# Guardar el dataset combinado\n",
    "heart_females.to_csv(\"..\\heart_females.csv\", index=False)"
   ]
  },
  {
   "cell_type": "code",
   "execution_count": 8,
   "id": "4a3d2410",
   "metadata": {},
   "outputs": [],
   "source": [
    "# Path para cargar el dataset de mujeres\n",
    "data_path = project_root / \"data\" / \"synthetic\" / \"heart_females.csv\"\n",
    "\n",
    "heart_females = pd.read_csv(data_path)\n"
   ]
  },
  {
   "cell_type": "code",
   "execution_count": 9,
   "id": "537f1c51",
   "metadata": {},
   "outputs": [
    {
     "data": {
      "text/html": [
       "<div>\n",
       "<style scoped>\n",
       "    .dataframe tbody tr th:only-of-type {\n",
       "        vertical-align: middle;\n",
       "    }\n",
       "\n",
       "    .dataframe tbody tr th {\n",
       "        vertical-align: top;\n",
       "    }\n",
       "\n",
       "    .dataframe thead th {\n",
       "        text-align: right;\n",
       "    }\n",
       "</style>\n",
       "<table border=\"1\" class=\"dataframe\">\n",
       "  <thead>\n",
       "    <tr style=\"text-align: right;\">\n",
       "      <th></th>\n",
       "      <th>age</th>\n",
       "      <th>sex</th>\n",
       "      <th>chest_pain_type</th>\n",
       "      <th>resting_bp_s</th>\n",
       "      <th>cholesterol</th>\n",
       "      <th>fasting_blood_sugar</th>\n",
       "      <th>resting_ecg</th>\n",
       "      <th>max_heart_rate</th>\n",
       "      <th>target</th>\n",
       "    </tr>\n",
       "  </thead>\n",
       "  <tbody>\n",
       "    <tr>\n",
       "      <th>0</th>\n",
       "      <td>49.0</td>\n",
       "      <td>0.0</td>\n",
       "      <td>3.0</td>\n",
       "      <td>160.0</td>\n",
       "      <td>180.0</td>\n",
       "      <td>0.0</td>\n",
       "      <td>0.0</td>\n",
       "      <td>156.0</td>\n",
       "      <td>1.0</td>\n",
       "    </tr>\n",
       "    <tr>\n",
       "      <th>1</th>\n",
       "      <td>48.0</td>\n",
       "      <td>0.0</td>\n",
       "      <td>4.0</td>\n",
       "      <td>138.0</td>\n",
       "      <td>214.0</td>\n",
       "      <td>0.0</td>\n",
       "      <td>0.0</td>\n",
       "      <td>108.0</td>\n",
       "      <td>1.0</td>\n",
       "    </tr>\n",
       "    <tr>\n",
       "      <th>2</th>\n",
       "      <td>45.0</td>\n",
       "      <td>0.0</td>\n",
       "      <td>2.0</td>\n",
       "      <td>130.0</td>\n",
       "      <td>237.0</td>\n",
       "      <td>0.0</td>\n",
       "      <td>0.0</td>\n",
       "      <td>170.0</td>\n",
       "      <td>0.0</td>\n",
       "    </tr>\n",
       "    <tr>\n",
       "      <th>3</th>\n",
       "      <td>48.0</td>\n",
       "      <td>0.0</td>\n",
       "      <td>2.0</td>\n",
       "      <td>120.0</td>\n",
       "      <td>284.0</td>\n",
       "      <td>0.0</td>\n",
       "      <td>0.0</td>\n",
       "      <td>120.0</td>\n",
       "      <td>0.0</td>\n",
       "    </tr>\n",
       "    <tr>\n",
       "      <th>4</th>\n",
       "      <td>37.0</td>\n",
       "      <td>0.0</td>\n",
       "      <td>3.0</td>\n",
       "      <td>130.0</td>\n",
       "      <td>211.0</td>\n",
       "      <td>0.0</td>\n",
       "      <td>0.0</td>\n",
       "      <td>142.0</td>\n",
       "      <td>0.0</td>\n",
       "    </tr>\n",
       "    <tr>\n",
       "      <th>...</th>\n",
       "      <td>...</td>\n",
       "      <td>...</td>\n",
       "      <td>...</td>\n",
       "      <td>...</td>\n",
       "      <td>...</td>\n",
       "      <td>...</td>\n",
       "      <td>...</td>\n",
       "      <td>...</td>\n",
       "      <td>...</td>\n",
       "    </tr>\n",
       "    <tr>\n",
       "      <th>276</th>\n",
       "      <td>58.0</td>\n",
       "      <td>0.0</td>\n",
       "      <td>4.0</td>\n",
       "      <td>170.0</td>\n",
       "      <td>225.0</td>\n",
       "      <td>1.0</td>\n",
       "      <td>2.0</td>\n",
       "      <td>146.0</td>\n",
       "      <td>1.0</td>\n",
       "    </tr>\n",
       "    <tr>\n",
       "      <th>277</th>\n",
       "      <td>55.0</td>\n",
       "      <td>0.0</td>\n",
       "      <td>2.0</td>\n",
       "      <td>132.0</td>\n",
       "      <td>342.0</td>\n",
       "      <td>0.0</td>\n",
       "      <td>0.0</td>\n",
       "      <td>166.0</td>\n",
       "      <td>0.0</td>\n",
       "    </tr>\n",
       "    <tr>\n",
       "      <th>278</th>\n",
       "      <td>63.0</td>\n",
       "      <td>0.0</td>\n",
       "      <td>4.0</td>\n",
       "      <td>124.0</td>\n",
       "      <td>197.0</td>\n",
       "      <td>0.0</td>\n",
       "      <td>0.0</td>\n",
       "      <td>136.0</td>\n",
       "      <td>1.0</td>\n",
       "    </tr>\n",
       "    <tr>\n",
       "      <th>279</th>\n",
       "      <td>57.0</td>\n",
       "      <td>0.0</td>\n",
       "      <td>4.0</td>\n",
       "      <td>140.0</td>\n",
       "      <td>241.0</td>\n",
       "      <td>0.0</td>\n",
       "      <td>0.0</td>\n",
       "      <td>123.0</td>\n",
       "      <td>1.0</td>\n",
       "    </tr>\n",
       "    <tr>\n",
       "      <th>280</th>\n",
       "      <td>57.0</td>\n",
       "      <td>0.0</td>\n",
       "      <td>2.0</td>\n",
       "      <td>130.0</td>\n",
       "      <td>236.0</td>\n",
       "      <td>0.0</td>\n",
       "      <td>2.0</td>\n",
       "      <td>174.0</td>\n",
       "      <td>1.0</td>\n",
       "    </tr>\n",
       "  </tbody>\n",
       "</table>\n",
       "<p>281 rows × 9 columns</p>\n",
       "</div>"
      ],
      "text/plain": [
       "      age  sex  chest_pain_type  resting_bp_s  cholesterol  \\\n",
       "0    49.0  0.0              3.0         160.0        180.0   \n",
       "1    48.0  0.0              4.0         138.0        214.0   \n",
       "2    45.0  0.0              2.0         130.0        237.0   \n",
       "3    48.0  0.0              2.0         120.0        284.0   \n",
       "4    37.0  0.0              3.0         130.0        211.0   \n",
       "..    ...  ...              ...           ...          ...   \n",
       "276  58.0  0.0              4.0         170.0        225.0   \n",
       "277  55.0  0.0              2.0         132.0        342.0   \n",
       "278  63.0  0.0              4.0         124.0        197.0   \n",
       "279  57.0  0.0              4.0         140.0        241.0   \n",
       "280  57.0  0.0              2.0         130.0        236.0   \n",
       "\n",
       "     fasting_blood_sugar  resting_ecg  max_heart_rate  target  \n",
       "0                    0.0          0.0           156.0     1.0  \n",
       "1                    0.0          0.0           108.0     1.0  \n",
       "2                    0.0          0.0           170.0     0.0  \n",
       "3                    0.0          0.0           120.0     0.0  \n",
       "4                    0.0          0.0           142.0     0.0  \n",
       "..                   ...          ...             ...     ...  \n",
       "276                  1.0          2.0           146.0     1.0  \n",
       "277                  0.0          0.0           166.0     0.0  \n",
       "278                  0.0          0.0           136.0     1.0  \n",
       "279                  0.0          0.0           123.0     1.0  \n",
       "280                  0.0          2.0           174.0     1.0  \n",
       "\n",
       "[281 rows x 9 columns]"
      ]
     },
     "execution_count": 9,
     "metadata": {},
     "output_type": "execute_result"
    }
   ],
   "source": [
    "heart_females"
   ]
  },
  {
   "cell_type": "markdown",
   "id": "b8c6a1f9",
   "metadata": {},
   "source": [
    "_"
   ]
  },
  {
   "cell_type": "markdown",
   "id": "f98295d8",
   "metadata": {},
   "source": [
    "### Comprobación de datos sintéticos generados"
   ]
  },
  {
   "cell_type": "code",
   "execution_count": 10,
   "id": "79c4fdb1",
   "metadata": {},
   "outputs": [
    {
     "name": "stdout",
     "output_type": "stream",
     "text": [
      "Valores únicos en 'sex' (sintético): [0.]\n"
     ]
    }
   ],
   "source": [
    "# Path para cargar el dataset de mujeres\n",
    "data_path = project_root / \"data\" / \"synthetic\" / \"heart_females_synthetic.csv\"\n",
    "\n",
    "synthetic = pd.read_csv(data_path)\n",
    "\n",
    "# Verificamos que sex = 0 en el sintético\n",
    "print(\"Valores únicos en 'sex' (sintético):\", synthetic['sex'].unique())\n"
   ]
  },
  {
   "cell_type": "code",
   "execution_count": 11,
   "id": "e8a6c716",
   "metadata": {},
   "outputs": [
    {
     "name": "stdout",
     "output_type": "stream",
     "text": [
      "\n",
      "📊 Distribución de target (sintético):\n",
      "target\n",
      "0.0    74.8\n",
      "1.0    25.2\n",
      "Name: proportion, dtype: float64\n"
     ]
    }
   ],
   "source": [
    "# Ver distribución de target en sintéticos\n",
    "print(\"\\n📊 Distribución de target (sintético):\")\n",
    "print(synthetic['target'].value_counts(normalize=True).round(3) * 100)\n"
   ]
  },
  {
   "cell_type": "code",
   "execution_count": 12,
   "id": "e0890b71",
   "metadata": {},
   "outputs": [
    {
     "name": "stdout",
     "output_type": "stream",
     "text": [
      "<class 'pandas.core.frame.DataFrame'>\n",
      "RangeIndex: 500 entries, 0 to 499\n",
      "Data columns (total 9 columns):\n",
      " #   Column               Non-Null Count  Dtype  \n",
      "---  ------               --------------  -----  \n",
      " 0   age                  500 non-null    int64  \n",
      " 1   sex                  500 non-null    float64\n",
      " 2   chest_pain_type      500 non-null    float64\n",
      " 3   resting_bp_s         500 non-null    int64  \n",
      " 4   cholesterol          500 non-null    int64  \n",
      " 5   fasting_blood_sugar  500 non-null    float64\n",
      " 6   resting_ecg          500 non-null    float64\n",
      " 7   max_heart_rate       500 non-null    int64  \n",
      " 8   target               500 non-null    float64\n",
      "dtypes: float64(5), int64(4)\n",
      "memory usage: 35.3 KB\n"
     ]
    }
   ],
   "source": [
    "synthetic.info()"
   ]
  },
  {
   "cell_type": "code",
   "execution_count": 13,
   "id": "46c58381",
   "metadata": {},
   "outputs": [
    {
     "name": "stdout",
     "output_type": "stream",
     "text": [
      "<class 'pandas.core.frame.DataFrame'>\n",
      "RangeIndex: 1190 entries, 0 to 1189\n",
      "Data columns (total 9 columns):\n",
      " #   Column               Non-Null Count  Dtype  \n",
      "---  ------               --------------  -----  \n",
      " 0   age                  1190 non-null   float64\n",
      " 1   sex                  1190 non-null   float64\n",
      " 2   chest_pain_type      1190 non-null   float64\n",
      " 3   resting_bp_s         1190 non-null   float64\n",
      " 4   cholesterol          1190 non-null   float64\n",
      " 5   fasting_blood_sugar  1190 non-null   float64\n",
      " 6   resting_ecg          1190 non-null   float64\n",
      " 7   max_heart_rate       1190 non-null   float64\n",
      " 8   target               1190 non-null   float64\n",
      "dtypes: float64(9)\n",
      "memory usage: 83.8 KB\n"
     ]
    }
   ],
   "source": [
    "heart.info()"
   ]
  },
  {
   "cell_type": "code",
   "execution_count": 14,
   "id": "123a78c3",
   "metadata": {},
   "outputs": [],
   "source": [
    "# Convertir todas las columnas a float64 en el dataset sintético\n",
    "synthetic = synthetic.astype('float64')"
   ]
  },
  {
   "cell_type": "code",
   "execution_count": 15,
   "id": "088fce54",
   "metadata": {},
   "outputs": [
    {
     "name": "stdout",
     "output_type": "stream",
     "text": [
      "<class 'pandas.core.frame.DataFrame'>\n",
      "RangeIndex: 500 entries, 0 to 499\n",
      "Data columns (total 9 columns):\n",
      " #   Column               Non-Null Count  Dtype  \n",
      "---  ------               --------------  -----  \n",
      " 0   age                  500 non-null    float64\n",
      " 1   sex                  500 non-null    float64\n",
      " 2   chest_pain_type      500 non-null    float64\n",
      " 3   resting_bp_s         500 non-null    float64\n",
      " 4   cholesterol          500 non-null    float64\n",
      " 5   fasting_blood_sugar  500 non-null    float64\n",
      " 6   resting_ecg          500 non-null    float64\n",
      " 7   max_heart_rate       500 non-null    float64\n",
      " 8   target               500 non-null    float64\n",
      "dtypes: float64(9)\n",
      "memory usage: 35.3 KB\n"
     ]
    }
   ],
   "source": [
    "synthetic.info()"
   ]
  },
  {
   "cell_type": "code",
   "execution_count": 16,
   "id": "c14c5383",
   "metadata": {},
   "outputs": [
    {
     "name": "stdout",
     "output_type": "stream",
     "text": [
      "\n",
      "✅ Dataset combinado:\n",
      "Original: (1190, 9)\n",
      "Sintético: (500, 9)\n",
      "Total: (1690, 9)\n"
     ]
    }
   ],
   "source": [
    "# Concatenar original + sintético\n",
    "heart_augmented = pd.concat([heart, synthetic], ignore_index=True)\n",
    "\n",
    "print(\"\\n✅ Dataset combinado:\")\n",
    "print(\"Original:\", heart.shape)\n",
    "print(\"Sintético:\", synthetic.shape)\n",
    "print(\"Total:\", heart_augmented.shape)"
   ]
  },
  {
   "cell_type": "code",
   "execution_count": 17,
   "id": "bb899810",
   "metadata": {},
   "outputs": [
    {
     "data": {
      "text/plain": [
       "age                     50\n",
       "sex                      2\n",
       "chest_pain_type          4\n",
       "resting_bp_s            81\n",
       "cholesterol            307\n",
       "fasting_blood_sugar      2\n",
       "resting_ecg              3\n",
       "max_heart_rate         120\n",
       "target                   2\n",
       "dtype: int64"
      ]
     },
     "execution_count": 17,
     "metadata": {},
     "output_type": "execute_result"
    }
   ],
   "source": [
    "heart_augmented.nunique()"
   ]
  },
  {
   "cell_type": "code",
   "execution_count": 18,
   "id": "b6f8b7c9",
   "metadata": {},
   "outputs": [
    {
     "name": "stdout",
     "output_type": "stream",
     "text": [
      "✅ Archivo guardado en: data/synthetic/heart-disease-dataset_augmented.csv\n"
     ]
    }
   ],
   "source": [
    "# Asegurarse de que exista la carpeta 'results'\n",
    "output_path = project_root / \"data\" / \"synthetic\" \n",
    "output_path.mkdir(parents=True, exist_ok=True)\n",
    "\n",
    "# Guardar el dataset combinado\n",
    "heart_augmented.to_csv(output_path / \"heart-disease-dataset_augmented.csv\", index=False)\n",
    "print(\"✅ Archivo guardado en: data/synthetic/heart-disease-dataset_augmented.csv\")\n",
    "\n",
    "# Guardar el dataset combinado\n",
    "heart_females.to_csv(\"..\\heart-disease-dataset_augmented.csv\", index=False)"
   ]
  },
  {
   "cell_type": "code",
   "execution_count": 19,
   "id": "faa1d4b2",
   "metadata": {},
   "outputs": [
    {
     "name": "stdout",
     "output_type": "stream",
     "text": [
      "\n",
      "📊 Distribución en 'sex':\n",
      "sex\n",
      "1.0    53.8\n",
      "0.0    46.2\n",
      "Name: proportion, dtype: float64\n",
      "\n",
      "📊 Distribución en 'chest_pain_type':\n",
      "chest_pain_type\n",
      "4.0    47.9\n",
      "3.0    24.6\n",
      "2.0    20.5\n",
      "1.0     7.0\n",
      "Name: proportion, dtype: float64\n",
      "\n",
      "📊 Distribución en 'fasting_blood_sugar':\n",
      "fasting_blood_sugar\n",
      "0.0    81.9\n",
      "1.0    18.1\n",
      "Name: proportion, dtype: float64\n",
      "\n",
      "📊 Distribución en 'resting_ecg':\n",
      "resting_ecg\n",
      "0.0    55.0\n",
      "2.0    29.9\n",
      "1.0    15.0\n",
      "Name: proportion, dtype: float64\n",
      "\n",
      "📊 Distribución en 'target':\n",
      "target\n",
      "0.0    55.3\n",
      "1.0    44.7\n",
      "Name: proportion, dtype: float64\n"
     ]
    }
   ],
   "source": [
    "# Mostrar distribución porcentual solo en columnas categóricas (<= 10 valores únicos)\n",
    "for col in heart_augmented.columns:\n",
    "    if heart_augmented[col].nunique() <= 10:\n",
    "        print(f\"\\n📊 Distribución en '{col}':\")\n",
    "        print(heart_augmented[col].value_counts(normalize=True).round(3) * 100)"
   ]
  },
  {
   "cell_type": "code",
   "execution_count": 20,
   "id": "a083f0de",
   "metadata": {},
   "outputs": [
    {
     "name": "stdout",
     "output_type": "stream",
     "text": [
      "\n",
      "📊 Distribución en 'sex':\n",
      "sex\n",
      "1.0    76.4\n",
      "0.0    23.6\n",
      "Name: proportion, dtype: float64\n",
      "\n",
      "📊 Distribución en 'chest_pain_type':\n",
      "chest_pain_type\n",
      "4.0    52.5\n",
      "3.0    23.8\n",
      "2.0    18.2\n",
      "1.0     5.5\n",
      "Name: proportion, dtype: float64\n",
      "\n",
      "📊 Distribución en 'fasting_blood_sugar':\n",
      "fasting_blood_sugar\n",
      "0.0    78.7\n",
      "1.0    21.3\n",
      "Name: proportion, dtype: float64\n",
      "\n",
      "📊 Distribución en 'resting_ecg':\n",
      "resting_ecg\n",
      "0.0    57.5\n",
      "2.0    27.3\n",
      "1.0    15.2\n",
      "Name: proportion, dtype: float64\n",
      "\n",
      "📊 Distribución en 'target':\n",
      "target\n",
      "1.0    52.9\n",
      "0.0    47.1\n",
      "Name: proportion, dtype: float64\n"
     ]
    }
   ],
   "source": [
    "# Mostrar distribución porcentual solo en columnas categóricas (<= 10 valores únicos)\n",
    "for col in heart.columns:\n",
    "    if heart[col].nunique() <= 10:\n",
    "        print(f\"\\n📊 Distribución en '{col}':\")\n",
    "        print(heart[col].value_counts(normalize=True).round(3) * 100)"
   ]
  }
 ],
 "metadata": {
  "kernelspec": {
   "display_name": "Python 3",
   "language": "python",
   "name": "python3"
  },
  "language_info": {
   "codemirror_mode": {
    "name": "ipython",
    "version": 3
   },
   "file_extension": ".py",
   "mimetype": "text/x-python",
   "name": "python",
   "nbconvert_exporter": "python",
   "pygments_lexer": "ipython3",
   "version": "3.11.7"
  }
 },
 "nbformat": 4,
 "nbformat_minor": 5
}
