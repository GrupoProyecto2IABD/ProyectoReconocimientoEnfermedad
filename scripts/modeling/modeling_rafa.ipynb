{
 "cells": [
  {
   "cell_type": "markdown",
   "id": "04dd1016",
   "metadata": {},
   "source": [
    "Importar librerías necesarias"
   ]
  },
  {
   "cell_type": "code",
   "execution_count": 17,
   "id": "2e1d1c01",
   "metadata": {},
   "outputs": [],
   "source": [
    "# Importación de librerías\n",
    "import pandas as pd\n",
    "from pathlib import Path\n",
    "import os\n",
    "from sklearn.model_selection import train_test_split, GridSearchCV\n",
    "from sklearn.ensemble import GradientBoostingClassifier\n",
    "from sklearn.preprocessing import StandardScaler\n",
    "from sklearn.metrics import (\n",
    "    classification_report, confusion_matrix,\n",
    "    ConfusionMatrixDisplay, roc_auc_score,\n",
    "    roc_curve, auc\n",
    ")\n",
    "import matplotlib.pyplot as plt\n",
    "from sklearn.metrics import confusion_matrix\n"
   ]
  },
  {
   "cell_type": "markdown",
   "id": "efd77f0e",
   "metadata": {},
   "source": [
    "1 - Cargar y preparar los datos"
   ]
  },
  {
   "cell_type": "code",
   "execution_count": 5,
   "id": "5aabf507",
   "metadata": {},
   "outputs": [
    {
     "data": {
      "text/html": [
       "<div>\n",
       "<style scoped>\n",
       "    .dataframe tbody tr th:only-of-type {\n",
       "        vertical-align: middle;\n",
       "    }\n",
       "\n",
       "    .dataframe tbody tr th {\n",
       "        vertical-align: top;\n",
       "    }\n",
       "\n",
       "    .dataframe thead th {\n",
       "        text-align: right;\n",
       "    }\n",
       "</style>\n",
       "<table border=\"1\" class=\"dataframe\">\n",
       "  <thead>\n",
       "    <tr style=\"text-align: right;\">\n",
       "      <th></th>\n",
       "      <th>age</th>\n",
       "      <th>sex</th>\n",
       "      <th>chest_pain_type</th>\n",
       "      <th>resting_bp_s</th>\n",
       "      <th>cholesterol</th>\n",
       "      <th>fasting_blood_sugar</th>\n",
       "      <th>resting_ecg</th>\n",
       "      <th>max_heart_rate</th>\n",
       "      <th>target</th>\n",
       "    </tr>\n",
       "  </thead>\n",
       "  <tbody>\n",
       "    <tr>\n",
       "      <th>0</th>\n",
       "      <td>40.0</td>\n",
       "      <td>1.0</td>\n",
       "      <td>2.0</td>\n",
       "      <td>140.0</td>\n",
       "      <td>289.0</td>\n",
       "      <td>0.0</td>\n",
       "      <td>0.0</td>\n",
       "      <td>172.0</td>\n",
       "      <td>0.0</td>\n",
       "    </tr>\n",
       "    <tr>\n",
       "      <th>1</th>\n",
       "      <td>49.0</td>\n",
       "      <td>0.0</td>\n",
       "      <td>3.0</td>\n",
       "      <td>160.0</td>\n",
       "      <td>180.0</td>\n",
       "      <td>0.0</td>\n",
       "      <td>0.0</td>\n",
       "      <td>156.0</td>\n",
       "      <td>1.0</td>\n",
       "    </tr>\n",
       "    <tr>\n",
       "      <th>2</th>\n",
       "      <td>37.0</td>\n",
       "      <td>1.0</td>\n",
       "      <td>2.0</td>\n",
       "      <td>130.0</td>\n",
       "      <td>283.0</td>\n",
       "      <td>0.0</td>\n",
       "      <td>1.0</td>\n",
       "      <td>98.0</td>\n",
       "      <td>0.0</td>\n",
       "    </tr>\n",
       "    <tr>\n",
       "      <th>3</th>\n",
       "      <td>48.0</td>\n",
       "      <td>0.0</td>\n",
       "      <td>4.0</td>\n",
       "      <td>138.0</td>\n",
       "      <td>214.0</td>\n",
       "      <td>0.0</td>\n",
       "      <td>0.0</td>\n",
       "      <td>108.0</td>\n",
       "      <td>1.0</td>\n",
       "    </tr>\n",
       "    <tr>\n",
       "      <th>4</th>\n",
       "      <td>54.0</td>\n",
       "      <td>1.0</td>\n",
       "      <td>3.0</td>\n",
       "      <td>150.0</td>\n",
       "      <td>195.0</td>\n",
       "      <td>0.0</td>\n",
       "      <td>0.0</td>\n",
       "      <td>122.0</td>\n",
       "      <td>0.0</td>\n",
       "    </tr>\n",
       "  </tbody>\n",
       "</table>\n",
       "</div>"
      ],
      "text/plain": [
       "    age  sex  chest_pain_type  resting_bp_s  cholesterol  fasting_blood_sugar  \\\n",
       "0  40.0  1.0              2.0         140.0        289.0                  0.0   \n",
       "1  49.0  0.0              3.0         160.0        180.0                  0.0   \n",
       "2  37.0  1.0              2.0         130.0        283.0                  0.0   \n",
       "3  48.0  0.0              4.0         138.0        214.0                  0.0   \n",
       "4  54.0  1.0              3.0         150.0        195.0                  0.0   \n",
       "\n",
       "   resting_ecg  max_heart_rate  target  \n",
       "0          0.0           172.0     0.0  \n",
       "1          0.0           156.0     1.0  \n",
       "2          1.0            98.0     0.0  \n",
       "3          0.0           108.0     1.0  \n",
       "4          0.0           122.0     0.0  "
      ]
     },
     "execution_count": 5,
     "metadata": {},
     "output_type": "execute_result"
    }
   ],
   "source": [
    "# 1. Detectar carpeta actual y raíz del proyecto\n",
    "current_dir = Path(os.getcwd())\n",
    "project_root = current_dir.parent.parent\n",
    "data_path = project_root / \"data\" / \"raw\" / \"heart-disease-dataset.csv\"\n",
    "\n",
    "# 2. Cargar CSV\n",
    "heart = pd.read_csv(data_path)\n",
    "\n",
    "# 3. Limpiar columnas no deseadas\n",
    "heart.drop(columns=['exercise_angina', 'oldpeak', 'st_slope'], inplace=True)\n",
    "\n",
    "heart.head()"
   ]
  },
  {
   "cell_type": "code",
   "execution_count": 20,
   "id": "bb96d930",
   "metadata": {},
   "outputs": [
    {
     "name": "stdout",
     "output_type": "stream",
     "text": [
      "<class 'pandas.core.frame.DataFrame'>\n",
      "RangeIndex: 1190 entries, 0 to 1189\n",
      "Data columns (total 9 columns):\n",
      " #   Column               Non-Null Count  Dtype  \n",
      "---  ------               --------------  -----  \n",
      " 0   age                  1190 non-null   float64\n",
      " 1   sex                  1190 non-null   float64\n",
      " 2   chest_pain_type      1190 non-null   float64\n",
      " 3   resting_bp_s         1190 non-null   float64\n",
      " 4   cholesterol          1190 non-null   float64\n",
      " 5   fasting_blood_sugar  1190 non-null   float64\n",
      " 6   resting_ecg          1190 non-null   float64\n",
      " 7   max_heart_rate       1190 non-null   float64\n",
      " 8   target               1190 non-null   float64\n",
      "dtypes: float64(9)\n",
      "memory usage: 83.8 KB\n"
     ]
    }
   ],
   "source": [
    "heart.info()"
   ]
  },
  {
   "cell_type": "markdown",
   "id": "8c1bca2c",
   "metadata": {},
   "source": [
    "2 - Preparación de datos Train y Test "
   ]
  },
  {
   "cell_type": "code",
   "execution_count": 6,
   "id": "ae3af3e7",
   "metadata": {},
   "outputs": [],
   "source": [
    "# Separar features y target\n",
    "X = heart.drop('target', axis=1)\n",
    "y = heart['target']"
   ]
  },
  {
   "cell_type": "code",
   "execution_count": 7,
   "id": "59db7e05",
   "metadata": {},
   "outputs": [],
   "source": [
    "# Escalar datos y dividir en entrenamiento/test\n",
    "scaler = StandardScaler()\n",
    "X_scaled = scaler.fit_transform(X)\n",
    "\n",
    "X_train, X_test, y_train, y_test = train_test_split(X_scaled, y, test_size=0.2, random_state=42)\n"
   ]
  },
  {
   "cell_type": "markdown",
   "id": "fd171d68",
   "metadata": {},
   "source": [
    "3 – Definir modelos y GridSearch"
   ]
  },
  {
   "cell_type": "code",
   "execution_count": 8,
   "id": "f0daba3d",
   "metadata": {},
   "outputs": [],
   "source": [
    "# Definir modelos a comparar y sus grids de hiperparámetros\n",
    "from sklearn.ensemble import RandomForestClassifier, AdaBoostClassifier, GradientBoostingClassifier\n",
    "\n",
    "models_params = {\n",
    "    \"Random Forest\": {\n",
    "        \"model\": RandomForestClassifier(random_state=42),\n",
    "        \"params\": {\n",
    "            \"n_estimators\": [100, 200],\n",
    "            \"max_depth\": [None, 10, 20],\n",
    "            \"min_samples_split\": [2, 5]\n",
    "        }\n",
    "    },\n",
    "    \"AdaBoost\": {\n",
    "        \"model\": AdaBoostClassifier(random_state=42),\n",
    "        \"params\": {\n",
    "            \"n_estimators\": [50, 100],\n",
    "            \"learning_rate\": [0.5, 1.0]\n",
    "        }\n",
    "    },\n",
    "    \"Gradient Boosting\": {\n",
    "        \"model\": GradientBoostingClassifier(random_state=42),\n",
    "        \"params\": {\n",
    "            \"n_estimators\": [100, 150],\n",
    "            \"learning_rate\": [0.1, 0.05],\n",
    "            \"max_depth\": [3, 5]\n",
    "        }\n",
    "    }\n",
    "}\n"
   ]
  },
  {
   "cell_type": "markdown",
   "id": "6e12f4b7",
   "metadata": {},
   "source": [
    "4 – Ejecutar GridSearch y guardar resultados"
   ]
  },
  {
   "cell_type": "code",
   "execution_count": null,
   "id": "866b2bf5",
   "metadata": {},
   "outputs": [
    {
     "name": "stdout",
     "output_type": "stream",
     "text": [
      "Random Forest → Predicciones únicas: {0.0, 1.0}\n",
      "Random Forest → Matriz de confusión:\n",
      "[[ 97  10]\n",
      " [ 15 116]]\n",
      "AdaBoost → Predicciones únicas: {0.0, 1.0}\n",
      "AdaBoost → Matriz de confusión:\n",
      "[[ 86  21]\n",
      " [ 22 109]]\n",
      "Gradient Boosting → Predicciones únicas: {0.0, 1.0}\n",
      "Gradient Boosting → Matriz de confusión:\n",
      "[[ 91  16]\n",
      " [ 15 116]]\n",
      "Archivo guardado en: results/model_comparison_results.csv\n"
     ]
    }
   ],
   "source": [
    "# Entrenar y comparar modelos con GridSearchCV de forma robusta\n",
    "from sklearn.model_selection import GridSearchCV\n",
    "from sklearn.metrics import classification_report, roc_auc_score\n",
    "from sklearn.metrics import confusion_matrix\n",
    "\n",
    "rows = []\n",
    "\n",
    "for name, mp in models_params.items():\n",
    "    grid = GridSearchCV(mp[\"model\"], mp[\"params\"], cv=5, scoring='roc_auc', n_jobs=-1)\n",
    "    grid.fit(X_train, y_train)\n",
    "\n",
    "    y_pred = grid.predict(X_test)\n",
    "    y_proba = grid.predict_proba(X_test)[:, 1]\n",
    "\n",
    "    # Convertir temporalmente para la evaluación\n",
    "    y_test_int = y_test.astype(int)\n",
    "    y_pred_int = y_pred.astype(int)\n",
    "\n",
    "    report = classification_report(y_test_int, y_pred_int, output_dict=True)\n",
    "\n",
    "    # report = classification_report(y_test, y_pred, output_dict=True)\n",
    "\n",
    "    # Print Matriz de confusión\n",
    "    cm = confusion_matrix(y_test, y_pred)\n",
    "    print(f\"{name} → Matriz de confusión:\")\n",
    "    print(cm)\n",
    "\n",
    "    # Acceder a métricas de la clase positiva (1), usando .get por seguridad\n",
    "    class_1_metrics = report.get(\"1\", {\"precision\": 0, \"recall\": 0, \"f1-score\": 0})\n",
    "    \n",
    "    rows.append({\n",
    "        \"Model\": name,\n",
    "        \"ROC AUC\": roc_auc_score(y_test, y_proba),\n",
    "        \"Accuracy\": report[\"accuracy\"],\n",
    "        \"Precision\": class_1_metrics[\"precision\"],\n",
    "        \"Recall\": class_1_metrics[\"recall\"],\n",
    "        \"F1-Score\": class_1_metrics[\"f1-score\"],\n",
    "        \"Best Params\": grid.best_params_\n",
    "    })\n",
    "\n",
    "# Crear DataFrame con resultados\n",
    "results_df = pd.DataFrame(rows)\n",
    "\n",
    "# Asegurarse de que exista la carpeta 'results'\n",
    "output_path = project_root / \"results\"\n",
    "output_path.mkdir(parents=True, exist_ok=True)\n",
    "\n",
    "# Guardar resultados\n",
    "results_df.to_csv(output_path / \"model_comparison_results.csv\", index=False)\n",
    "print(\"Archivo guardado en: results/model_comparison_results.csv\")\n"
   ]
  },
  {
   "cell_type": "code",
   "execution_count": 22,
   "id": "f48b08dd",
   "metadata": {},
   "outputs": [
    {
     "name": "stdout",
     "output_type": "stream",
     "text": [
      "               Model   ROC AUC  Accuracy  Precision    Recall  F1-Score  \\\n",
      "0      Random Forest  0.951594  0.894958   0.920635  0.885496  0.902724   \n",
      "1           AdaBoost  0.880467  0.819328   0.838462  0.832061  0.835249   \n",
      "2  Gradient Boosting  0.925091  0.869748   0.878788  0.885496  0.882129   \n",
      "\n",
      "                                         Best Params  \n",
      "0  {'max_depth': None, 'min_samples_split': 2, 'n...  \n",
      "1        {'learning_rate': 0.5, 'n_estimators': 100}  \n",
      "2  {'learning_rate': 0.1, 'max_depth': 5, 'n_esti...  \n"
     ]
    }
   ],
   "source": [
    "print(results_df)"
   ]
  },
  {
   "cell_type": "code",
   "execution_count": 24,
   "id": "ac6dc2dd",
   "metadata": {},
   "outputs": [
    {
     "data": {
      "text/html": [
       "<div>\n",
       "<style scoped>\n",
       "    .dataframe tbody tr th:only-of-type {\n",
       "        vertical-align: middle;\n",
       "    }\n",
       "\n",
       "    .dataframe tbody tr th {\n",
       "        vertical-align: top;\n",
       "    }\n",
       "\n",
       "    .dataframe thead th {\n",
       "        text-align: right;\n",
       "    }\n",
       "</style>\n",
       "<table border=\"1\" class=\"dataframe\">\n",
       "  <thead>\n",
       "    <tr style=\"text-align: right;\">\n",
       "      <th></th>\n",
       "      <th>Model</th>\n",
       "      <th>ROC AUC</th>\n",
       "      <th>Accuracy</th>\n",
       "      <th>Precision</th>\n",
       "      <th>Recall</th>\n",
       "      <th>F1-Score</th>\n",
       "      <th>Best Params</th>\n",
       "    </tr>\n",
       "  </thead>\n",
       "  <tbody>\n",
       "    <tr>\n",
       "      <th>0</th>\n",
       "      <td>Random Forest</td>\n",
       "      <td>0.951594</td>\n",
       "      <td>0.894958</td>\n",
       "      <td>0.920635</td>\n",
       "      <td>0.885496</td>\n",
       "      <td>0.902724</td>\n",
       "      <td>{'max_depth': None, 'min_samples_split': 2, 'n...</td>\n",
       "    </tr>\n",
       "    <tr>\n",
       "      <th>1</th>\n",
       "      <td>AdaBoost</td>\n",
       "      <td>0.880467</td>\n",
       "      <td>0.819328</td>\n",
       "      <td>0.838462</td>\n",
       "      <td>0.832061</td>\n",
       "      <td>0.835249</td>\n",
       "      <td>{'learning_rate': 0.5, 'n_estimators': 100}</td>\n",
       "    </tr>\n",
       "    <tr>\n",
       "      <th>2</th>\n",
       "      <td>Gradient Boosting</td>\n",
       "      <td>0.925091</td>\n",
       "      <td>0.869748</td>\n",
       "      <td>0.878788</td>\n",
       "      <td>0.885496</td>\n",
       "      <td>0.882129</td>\n",
       "      <td>{'learning_rate': 0.1, 'max_depth': 5, 'n_esti...</td>\n",
       "    </tr>\n",
       "  </tbody>\n",
       "</table>\n",
       "</div>"
      ],
      "text/plain": [
       "               Model   ROC AUC  Accuracy  Precision    Recall  F1-Score  \\\n",
       "0      Random Forest  0.951594  0.894958   0.920635  0.885496  0.902724   \n",
       "1           AdaBoost  0.880467  0.819328   0.838462  0.832061  0.835249   \n",
       "2  Gradient Boosting  0.925091  0.869748   0.878788  0.885496  0.882129   \n",
       "\n",
       "                                         Best Params  \n",
       "0  {'max_depth': None, 'min_samples_split': 2, 'n...  \n",
       "1        {'learning_rate': 0.5, 'n_estimators': 100}  \n",
       "2  {'learning_rate': 0.1, 'max_depth': 5, 'n_esti...  "
      ]
     },
     "execution_count": 24,
     "metadata": {},
     "output_type": "execute_result"
    }
   ],
   "source": [
    "results_df"
   ]
  },
  {
   "cell_type": "markdown",
   "id": "e71734e4",
   "metadata": {},
   "source": [
    "5 – Matriz de Confusión"
   ]
  },
  {
   "cell_type": "code",
   "execution_count": 29,
   "id": "ec147fe4",
   "metadata": {},
   "outputs": [
    {
     "data": {
      "image/png": "[encoded data removed]",
      "text/plain": [
       "<Figure size 600x200 with 3 Axes>"
      ]
     },
     "metadata": {},
     "output_type": "display_data"
    }
   ],
   "source": [
    "# Mostrar matrices de confusión para todos los modelos en una sola figura\n",
    "import matplotlib.pyplot as plt\n",
    "from sklearn.metrics import confusion_matrix, ConfusionMatrixDisplay\n",
    "\n",
    "# Crear figura con 1 fila y 3 columnas\n",
    "fig, axes = plt.subplots(1, 3, figsize=(6, 2))\n",
    "\n",
    "for ax, (name, mp) in zip(axes, models_params.items()):\n",
    "    model = mp[\"model\"].set_params(**rows[[r[\"Model\"] for r in rows].index(name)][\"Best Params\"])\n",
    "    model.fit(X_train, y_train)\n",
    "    y_pred = model.predict(X_test)\n",
    "    cm = confusion_matrix(y_test, y_pred)\n",
    "    disp = ConfusionMatrixDisplay(confusion_matrix=cm, display_labels=[0, 1])\n",
    "    disp.plot(ax=ax, cmap=\"Blues\", colorbar=False)\n",
    "    ax.set_title(name)\n",
    "    ax.set_xlabel('Predicción')\n",
    "    ax.set_ylabel('Real')\n",
    "\n",
    "plt.tight_layout()\n",
    "plt.show()\n"
   ]
  },
  {
   "cell_type": "markdown",
   "id": "69667981",
   "metadata": {},
   "source": [
    "Visualización comparativa de métricas"
   ]
  },
  {
   "cell_type": "code",
   "execution_count": 35,
   "id": "7aae7b4c",
   "metadata": {},
   "outputs": [
    {
     "data": {
      "text/html": [
       "<style type=\"text/css\">\n",
       "#T_c707b_row0_col0, #T_c707b_row0_col1, #T_c707b_row0_col2, #T_c707b_row0_col3, #T_c707b_row2_col2 {\n",
       "  background-color: darkblue;\n",
       "}\n",
       "</style>\n",
       "<table id=\"T_c707b\">\n",
       "  <thead>\n",
       "    <tr>\n",
       "      <th class=\"blank level0\" >&nbsp;</th>\n",
       "      <th id=\"T_c707b_level0_col0\" class=\"col_heading level0 col0\" >Accuracy</th>\n",
       "      <th id=\"T_c707b_level0_col1\" class=\"col_heading level0 col1\" >Precision</th>\n",
       "      <th id=\"T_c707b_level0_col2\" class=\"col_heading level0 col2\" >Recall</th>\n",
       "      <th id=\"T_c707b_level0_col3\" class=\"col_heading level0 col3\" >F1-Score</th>\n",
       "    </tr>\n",
       "    <tr>\n",
       "      <th class=\"index_name level0\" >Model</th>\n",
       "      <th class=\"blank col0\" >&nbsp;</th>\n",
       "      <th class=\"blank col1\" >&nbsp;</th>\n",
       "      <th class=\"blank col2\" >&nbsp;</th>\n",
       "      <th class=\"blank col3\" >&nbsp;</th>\n",
       "    </tr>\n",
       "  </thead>\n",
       "  <tbody>\n",
       "    <tr>\n",
       "      <th id=\"T_c707b_level0_row0\" class=\"row_heading level0 row0\" >Random Forest</th>\n",
       "      <td id=\"T_c707b_row0_col0\" class=\"data row0 col0\" >0.895</td>\n",
       "      <td id=\"T_c707b_row0_col1\" class=\"data row0 col1\" >0.921</td>\n",
       "      <td id=\"T_c707b_row0_col2\" class=\"data row0 col2\" >0.885</td>\n",
       "      <td id=\"T_c707b_row0_col3\" class=\"data row0 col3\" >0.903</td>\n",
       "    </tr>\n",
       "    <tr>\n",
       "      <th id=\"T_c707b_level0_row1\" class=\"row_heading level0 row1\" >AdaBoost</th>\n",
       "      <td id=\"T_c707b_row1_col0\" class=\"data row1 col0\" >0.819</td>\n",
       "      <td id=\"T_c707b_row1_col1\" class=\"data row1 col1\" >0.838</td>\n",
       "      <td id=\"T_c707b_row1_col2\" class=\"data row1 col2\" >0.832</td>\n",
       "      <td id=\"T_c707b_row1_col3\" class=\"data row1 col3\" >0.835</td>\n",
       "    </tr>\n",
       "    <tr>\n",
       "      <th id=\"T_c707b_level0_row2\" class=\"row_heading level0 row2\" >Gradient Boosting</th>\n",
       "      <td id=\"T_c707b_row2_col0\" class=\"data row2 col0\" >0.870</td>\n",
       "      <td id=\"T_c707b_row2_col1\" class=\"data row2 col1\" >0.879</td>\n",
       "      <td id=\"T_c707b_row2_col2\" class=\"data row2 col2\" >0.885</td>\n",
       "      <td id=\"T_c707b_row2_col3\" class=\"data row2 col3\" >0.882</td>\n",
       "    </tr>\n",
       "  </tbody>\n",
       "</table>\n"
      ],
      "text/plain": [
       "<pandas.io.formats.style.Styler at 0x1d72c91e0d0>"
      ]
     },
     "execution_count": 35,
     "metadata": {},
     "output_type": "execute_result"
    }
   ],
   "source": [
    "# Seleccionar columnas relevantes\n",
    "metrics_df = pd.DataFrame(rows)[['Model', 'Accuracy', 'Precision', 'Recall', 'F1-Score']]\n",
    "metrics_df.set_index('Model', inplace=True)\n",
    "\n",
    "# Función para resaltar el valor máximo en cada columna\n",
    "def highlight_max(s):\n",
    "    is_max = s == s.max()\n",
    "    return ['background-color: darkblue' if v else '' for v in is_max]\n",
    "\n",
    "# Mostrar con estilos\n",
    "styled_table = metrics_df.style.apply(highlight_max, axis=0).format(\"{:.3f}\")\n",
    "styled_table"
   ]
  },
  {
   "cell_type": "code",
   "execution_count": 40,
   "id": "d3cac921",
   "metadata": {},
   "outputs": [
    {
     "name": "stdout",
     "output_type": "stream",
     "text": [
      "🔍 Evaluación comparativa de modelos:\n",
      "               Model  Accuracy  Precision    Recall  F1-Score   ROC AUC\n",
      "0      Random Forest  0.894958   0.920635  0.885496  0.902724  0.951594\n",
      "1           AdaBoost  0.819328   0.838462  0.832061  0.835249  0.880467\n",
      "2  Gradient Boosting  0.869748   0.878788  0.885496  0.882129  0.925091\n",
      "\n",
      "Mejor modelo general:\n",
      "Modelo: Random Forest\n",
      "F1-Score: 0.903\n",
      "Precision: 0.921\n",
      "Recall: 0.885\n",
      "ROC AUC: 0.952\n",
      "Accuracy: 0.895\n",
      "\n",
      "✅ El modelo Random Forest ha sido seleccionado como el mejor modelo general porque presenta el F1-Score más alto (0.903),\n",
      "lo que indica un equilibrio sólido entre precisión (0.921) y recall (0.885).\n",
      "También destaca con un ROC AUC de 0.952, lo que sugiere una excelente capacidad de discriminación.\n"
     ]
    }
   ],
   "source": [
    "# Análisis automático del mejor modelo basado en métricas clave\n",
    "import pandas as pd\n",
    "\n",
    "# Crear DataFrame con resultados\n",
    "df_metrics = pd.DataFrame(rows)\n",
    "\n",
    "# Evaluar por F1-Score como métrica global de equilibrio entre precisión y recall\n",
    "best_model = df_metrics.loc[df_metrics['F1-Score'].idxmax()]\n",
    "\n",
    "# Mostrar resumen claro\n",
    "print(\"🔍 Evaluación comparativa de modelos:\")\n",
    "print(df_metrics[['Model', 'Accuracy', 'Precision', 'Recall', 'F1-Score', 'ROC AUC']])\n",
    "print(\"\\nMejor modelo general:\")\n",
    "\n",
    "print(f\"Modelo: {best_model['Model']}\")\n",
    "print(f\"F1-Score: {best_model['F1-Score']:.3f}\")\n",
    "print(f\"Precision: {best_model['Precision']:.3f}\")\n",
    "print(f\"Recall: {best_model['Recall']:.3f}\")\n",
    "print(f\"ROC AUC: {best_model['ROC AUC']:.3f}\")\n",
    "print(f\"Accuracy: {best_model['Accuracy']:.3f}\")\n",
    "\n",
    "# Justificación textual\n",
    "print(f\"\\n✅ El modelo {best_model['Model']} ha sido seleccionado como el mejor modelo general porque presenta el F1-Score más alto ({best_model['F1-Score']:.3f}),\")\n",
    "print(f\"lo que indica un equilibrio sólido entre precisión ({best_model['Precision']:.3f}) y recall ({best_model['Recall']:.3f}).\")\n",
    "print(f\"También destaca con un ROC AUC de {best_model['ROC AUC']:.3f}, lo que sugiere una excelente capacidad de discriminación.\")\n"
   ]
  },
  {
   "cell_type": "code",
   "execution_count": 43,
   "id": "dfa7bc9b",
   "metadata": {},
   "outputs": [
    {
     "data": {
      "text/html": [
       "<div>\n",
       "<style scoped>\n",
       "    .dataframe tbody tr th:only-of-type {\n",
       "        vertical-align: middle;\n",
       "    }\n",
       "\n",
       "    .dataframe tbody tr th {\n",
       "        vertical-align: top;\n",
       "    }\n",
       "\n",
       "    .dataframe thead th {\n",
       "        text-align: right;\n",
       "    }\n",
       "</style>\n",
       "<table border=\"1\" class=\"dataframe\">\n",
       "  <thead>\n",
       "    <tr style=\"text-align: right;\">\n",
       "      <th></th>\n",
       "      <th>Model</th>\n",
       "      <th>ROC AUC</th>\n",
       "      <th>Accuracy</th>\n",
       "      <th>Precision</th>\n",
       "      <th>Recall</th>\n",
       "      <th>F1-Score</th>\n",
       "      <th>Best Params</th>\n",
       "    </tr>\n",
       "  </thead>\n",
       "  <tbody>\n",
       "    <tr>\n",
       "      <th>0</th>\n",
       "      <td>Random Forest</td>\n",
       "      <td>0.951594</td>\n",
       "      <td>0.894958</td>\n",
       "      <td>0.920635</td>\n",
       "      <td>0.885496</td>\n",
       "      <td>0.902724</td>\n",
       "      <td>{'max_depth': None, 'min_samples_split': 2, 'n_estimators': 200}</td>\n",
       "    </tr>\n",
       "  </tbody>\n",
       "</table>\n",
       "</div>"
      ],
      "text/plain": [
       "           Model   ROC AUC  Accuracy  Precision    Recall  F1-Score  \\\n",
       "0  Random Forest  0.951594  0.894958   0.920635  0.885496  0.902724   \n",
       "\n",
       "                                                        Best Params  \n",
       "0  {'max_depth': None, 'min_samples_split': 2, 'n_estimators': 200}  "
      ]
     },
     "execution_count": 43,
     "metadata": {},
     "output_type": "execute_result"
    }
   ],
   "source": [
    "# Expandir el ancho de columnas en la salida de pandas\n",
    "pd.set_option('display.max_colwidth', None)\n",
    "\n",
    "# Mostrar solo el Random Forest\n",
    "results_df[results_df['Model'] == 'Random Forest']\n"
   ]
  }
 ],
 "metadata": {
  "kernelspec": {
   "display_name": "Python 3",
   "language": "python",
   "name": "python3"
  },
  "language_info": {
   "codemirror_mode": {
    "name": "ipython",
    "version": 3
   },
   "file_extension": ".py",
   "mimetype": "text/x-python",
   "name": "python",
   "nbconvert_exporter": "python",
   "pygments_lexer": "ipython3",
   "version": "3.11.7"
  }
 },
 "nbformat": 4,
 "nbformat_minor": 5
}
