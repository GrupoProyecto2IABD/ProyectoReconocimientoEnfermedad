{
 "cells": [
  {
   "cell_type": "code",
   "execution_count": 1,
   "id": "82f18748",
   "metadata": {},
   "outputs": [],
   "source": [
    "import pandas as pd\n",
    "from google.cloud import storage\n",
    "import os"
   ]
  },
  {
   "cell_type": "code",
   "execution_count": 2,
   "id": "b9b0e446",
   "metadata": {},
   "outputs": [],
   "source": [
    "# Establecer la ruta del archivo de credenciales\n",
    "os.environ[\"GOOGLE_APPLICATION_CREDENTIALS\"] = \"../../cloud/proyecto2-462217-118002bf0caf.json\""
   ]
  },
  {
   "cell_type": "code",
   "execution_count": 3,
   "id": "a618d0a4",
   "metadata": {},
   "outputs": [],
   "source": [
    "bucket_name = \"mi-bucket-heartdata\"\n",
    "blob_path = \"data/heart-disease-dataset.csv\"\n",
    "file_path = f\"gs://{bucket_name}/{blob_path}\""
   ]
  },
  {
   "cell_type": "code",
   "execution_count": 4,
   "id": "7a0a4696",
   "metadata": {},
   "outputs": [],
   "source": [
    "df = pd.read_csv(file_path)"
   ]
  },
  {
   "cell_type": "code",
   "execution_count": 5,
   "id": "4f374dc8",
   "metadata": {},
   "outputs": [
    {
     "data": {
      "text/html": [
       "<div>\n",
       "<style scoped>\n",
       "    .dataframe tbody tr th:only-of-type {\n",
       "        vertical-align: middle;\n",
       "    }\n",
       "\n",
       "    .dataframe tbody tr th {\n",
       "        vertical-align: top;\n",
       "    }\n",
       "\n",
       "    .dataframe thead th {\n",
       "        text-align: right;\n",
       "    }\n",
       "</style>\n",
       "<table border=\"1\" class=\"dataframe\">\n",
       "  <thead>\n",
       "    <tr style=\"text-align: right;\">\n",
       "      <th></th>\n",
       "      <th>age</th>\n",
       "      <th>sex</th>\n",
       "      <th>chest_pain_type</th>\n",
       "      <th>resting_bp_s</th>\n",
       "      <th>cholesterol</th>\n",
       "      <th>fasting_blood_sugar</th>\n",
       "      <th>resting_ecg</th>\n",
       "      <th>max_heart_rate</th>\n",
       "      <th>exercise_angina</th>\n",
       "      <th>oldpeak</th>\n",
       "      <th>st_slope</th>\n",
       "      <th>target</th>\n",
       "    </tr>\n",
       "  </thead>\n",
       "  <tbody>\n",
       "    <tr>\n",
       "      <th>0</th>\n",
       "      <td>40.0</td>\n",
       "      <td>1.0</td>\n",
       "      <td>2.0</td>\n",
       "      <td>140.0</td>\n",
       "      <td>289.0</td>\n",
       "      <td>0.0</td>\n",
       "      <td>0.0</td>\n",
       "      <td>172.0</td>\n",
       "      <td>0.0</td>\n",
       "      <td>0.0</td>\n",
       "      <td>1.0</td>\n",
       "      <td>0.0</td>\n",
       "    </tr>\n",
       "    <tr>\n",
       "      <th>1</th>\n",
       "      <td>49.0</td>\n",
       "      <td>0.0</td>\n",
       "      <td>3.0</td>\n",
       "      <td>160.0</td>\n",
       "      <td>180.0</td>\n",
       "      <td>0.0</td>\n",
       "      <td>0.0</td>\n",
       "      <td>156.0</td>\n",
       "      <td>0.0</td>\n",
       "      <td>1.0</td>\n",
       "      <td>2.0</td>\n",
       "      <td>1.0</td>\n",
       "    </tr>\n",
       "    <tr>\n",
       "      <th>2</th>\n",
       "      <td>37.0</td>\n",
       "      <td>1.0</td>\n",
       "      <td>2.0</td>\n",
       "      <td>130.0</td>\n",
       "      <td>283.0</td>\n",
       "      <td>0.0</td>\n",
       "      <td>1.0</td>\n",
       "      <td>98.0</td>\n",
       "      <td>0.0</td>\n",
       "      <td>0.0</td>\n",
       "      <td>1.0</td>\n",
       "      <td>0.0</td>\n",
       "    </tr>\n",
       "    <tr>\n",
       "      <th>3</th>\n",
       "      <td>48.0</td>\n",
       "      <td>0.0</td>\n",
       "      <td>4.0</td>\n",
       "      <td>138.0</td>\n",
       "      <td>214.0</td>\n",
       "      <td>0.0</td>\n",
       "      <td>0.0</td>\n",
       "      <td>108.0</td>\n",
       "      <td>1.0</td>\n",
       "      <td>1.5</td>\n",
       "      <td>2.0</td>\n",
       "      <td>1.0</td>\n",
       "    </tr>\n",
       "    <tr>\n",
       "      <th>4</th>\n",
       "      <td>54.0</td>\n",
       "      <td>1.0</td>\n",
       "      <td>3.0</td>\n",
       "      <td>150.0</td>\n",
       "      <td>195.0</td>\n",
       "      <td>0.0</td>\n",
       "      <td>0.0</td>\n",
       "      <td>122.0</td>\n",
       "      <td>0.0</td>\n",
       "      <td>0.0</td>\n",
       "      <td>1.0</td>\n",
       "      <td>0.0</td>\n",
       "    </tr>\n",
       "  </tbody>\n",
       "</table>\n",
       "</div>"
      ],
      "text/plain": [
       "    age  sex  chest_pain_type  resting_bp_s  cholesterol  fasting_blood_sugar  \\\n",
       "0  40.0  1.0              2.0         140.0        289.0                  0.0   \n",
       "1  49.0  0.0              3.0         160.0        180.0                  0.0   \n",
       "2  37.0  1.0              2.0         130.0        283.0                  0.0   \n",
       "3  48.0  0.0              4.0         138.0        214.0                  0.0   \n",
       "4  54.0  1.0              3.0         150.0        195.0                  0.0   \n",
       "\n",
       "   resting_ecg  max_heart_rate  exercise_angina  oldpeak  st_slope  target  \n",
       "0          0.0           172.0              0.0      0.0       1.0     0.0  \n",
       "1          0.0           156.0              0.0      1.0       2.0     1.0  \n",
       "2          1.0            98.0              0.0      0.0       1.0     0.0  \n",
       "3          0.0           108.0              1.0      1.5       2.0     1.0  \n",
       "4          0.0           122.0              0.0      0.0       1.0     0.0  "
      ]
     },
     "execution_count": 5,
     "metadata": {},
     "output_type": "execute_result"
    }
   ],
   "source": [
    "df.head()"
   ]
  },
  {
   "cell_type": "markdown",
   "id": "4cecf96f",
   "metadata": {},
   "source": [
    "Eliminamos datos duplicados"
   ]
  },
  {
   "cell_type": "code",
   "execution_count": 6,
   "id": "e12ebcd2",
   "metadata": {},
   "outputs": [],
   "source": [
    "df = df.drop_duplicates()"
   ]
  },
  {
   "cell_type": "markdown",
   "id": "4f5c5334",
   "metadata": {},
   "source": [
    "Eliminamos outliers"
   ]
  },
  {
   "cell_type": "code",
   "execution_count": 7,
   "id": "42284f27",
   "metadata": {},
   "outputs": [],
   "source": [
    "# Filtrado de outliers basado en rangos definidos\n",
    "df_clean = df[\n",
    "    (df['age'] >= 18) & (df['age'] <= 100) &\n",
    "    (df['resting_bp_s'] >= 90) & (df['resting_bp_s'] <= 210) &\n",
    "    (df['cholesterol'] >= 100) & (df['cholesterol'] <= 700) &\n",
    "    (df['max_heart_rate'] >= 60) & (df['max_heart_rate'] <= 220) &\n",
    "    (df['oldpeak'] >= 0) & (df['oldpeak'] <= 6)\n",
    "].copy()"
   ]
  },
  {
   "cell_type": "code",
   "execution_count": 8,
   "id": "85625506",
   "metadata": {},
   "outputs": [
    {
     "data": {
      "text/plain": [
       "(743, 12)"
      ]
     },
     "execution_count": 8,
     "metadata": {},
     "output_type": "execute_result"
    }
   ],
   "source": [
    "df_clean.shape"
   ]
  },
  {
   "cell_type": "code",
   "execution_count": 10,
   "id": "df108caa",
   "metadata": {},
   "outputs": [],
   "source": [
    "# Guardar el DataFrame limpio en un nuevo archivo CSV\n",
    "df_clean.to_csv(\"../../data/clean/clean_heart-disease-dataset.csv\", index=False)"
   ]
  },
  {
   "cell_type": "code",
   "execution_count": 11,
   "id": "a4b67124",
   "metadata": {},
   "outputs": [],
   "source": [
    "def upload_csv_to_bucket(bucket_name, source_file_path, destination_blob_name):\n",
    "    \"\"\"\n",
    "    Sube un archivo CSV a un bucket de GCP.\n",
    "\n",
    "    bucket_name: nombre del bucket (str)\n",
    "    source_file_path: ruta local del archivo CSV (str)\n",
    "    destination_blob_name: nombre con el que se guardará en el bucket (str)\n",
    "    \"\"\"\n",
    "    storage_client = storage.Client()\n",
    "    bucket = storage_client.bucket(bucket_name)\n",
    "    blob = bucket.blob(destination_blob_name)\n",
    "\n",
    "    blob.upload_from_filename(source_file_path)\n",
    "\n",
    "    print(f\"Archivo {source_file_path} subido a gs://{bucket_name}/{destination_blob_name}\")"
   ]
  },
  {
   "cell_type": "code",
   "execution_count": 12,
   "id": "4cbc98eb",
   "metadata": {},
   "outputs": [
    {
     "name": "stdout",
     "output_type": "stream",
     "text": [
      "Archivo ../../data/clean/clean_heart-disease-dataset.csv subido a gs://mi-bucket-heartdata/data/clean_heart-disease-dataset.csv\n"
     ]
    }
   ],
   "source": [
    "upload_csv_to_bucket(\n",
    "    bucket_name=\"mi-bucket-heartdata\",\n",
    "    source_file_path=\"../../data/clean/clean_heart-disease-dataset.csv\",\n",
    "    destination_blob_name=\"data/clean_heart-disease-dataset.csv\"\n",
    ")"
   ]
  },
  {
   "cell_type": "code",
   "execution_count": null,
   "id": "7a2d8b49",
   "metadata": {},
   "outputs": [],
   "source": []
  }
 ],
 "metadata": {
  "kernelspec": {
   "display_name": "base",
   "language": "python",
   "name": "python3"
  },
  "language_info": {
   "codemirror_mode": {
    "name": "ipython",
    "version": 3
   },
   "file_extension": ".py",
   "mimetype": "text/x-python",
   "name": "python",
   "nbconvert_exporter": "python",
   "pygments_lexer": "ipython3",
   "version": "3.12.3"
  }
 },
 "nbformat": 4,
 "nbformat_minor": 5
}
